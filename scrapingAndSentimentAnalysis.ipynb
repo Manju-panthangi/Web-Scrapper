{
  "nbformat": 4,
  "nbformat_minor": 0,
  "metadata": {
    "colab": {
      "name": "Untitled5.ipynb",
      "provenance": [],
      "collapsed_sections": [],
      "authorship_tag": "ABX9TyO2YeCw11UwjMNN1DSnnWHt",
      "include_colab_link": true
    },
    "kernelspec": {
      "name": "python3",
      "display_name": "Python 3"
    },
    "language_info": {
      "name": "python"
    }
  },
  "cells": [
    {
      "cell_type": "markdown",
      "metadata": {
        "id": "view-in-github",
        "colab_type": "text"
      },
      "source": [
        "<a href=\"https://colab.research.google.com/github/Manju-panthangi/Youtube-Comment-Sentiment-Analysis/blob/main/scrapingAndSentimentAnalysis.ipynb\" target=\"_parent\"><img src=\"https://colab.research.google.com/assets/colab-badge.svg\" alt=\"Open In Colab\"/></a>"
      ]
    },
    {
      "cell_type": "code",
      "execution_count": null,
      "metadata": {
        "colab": {
          "base_uri": "https://localhost:8080/"
        },
        "id": "18tGPeix05mq",
        "outputId": "4fbe7433-82d5-4a6c-edd3-b72b648a338e"
      },
      "outputs": [
        {
          "output_type": "stream",
          "name": "stdout",
          "text": [
            "Looking in indexes: https://pypi.org/simple, https://us-python.pkg.dev/colab-wheels/public/simple/\n",
            "Requirement already satisfied: obsei in /usr/local/lib/python3.7/dist-packages (0.0.11)\n",
            "Collecting dateparser\n",
            "  Downloading dateparser-1.1.1-py2.py3-none-any.whl (288 kB)\n",
            "\u001b[K     |████████████████████████████████| 288 kB 5.1 MB/s \n",
            "\u001b[?25hRequirement already satisfied: jinja2==3.0.3 in /usr/local/lib/python3.7/dist-packages (from obsei) (3.0.3)\n",
            "Requirement already satisfied: update-checker==0.18.0 in /usr/local/lib/python3.7/dist-packages (from obsei) (0.18.0)\n",
            "Requirement already satisfied: certifi==2021.10.8 in /usr/local/lib/python3.7/dist-packages (from obsei) (2021.10.8)\n",
            "Requirement already satisfied: typer==0.4.0 in /usr/local/lib/python3.7/dist-packages (from obsei) (0.4.0)\n",
            "Requirement already satisfied: torch==1.10.1 in /usr/local/lib/python3.7/dist-packages (from obsei) (1.10.1)\n",
            "Requirement already satisfied: sqlalchemy==1.4.29 in /usr/local/lib/python3.7/dist-packages (from obsei) (1.4.29)\n",
            "Requirement already satisfied: blis==0.7.5 in /usr/local/lib/python3.7/dist-packages (from obsei) (0.7.5)\n",
            "Requirement already satisfied: websocket-client==1.2.3 in /usr/local/lib/python3.7/dist-packages (from obsei) (1.2.3)\n",
            "Requirement already satisfied: requests==2.26.0 in /usr/local/lib/python3.7/dist-packages (from obsei) (2.26.0)\n",
            "Requirement already satisfied: spacy-loggers==1.0.1 in /usr/local/lib/python3.7/dist-packages (from obsei) (1.0.1)\n",
            "Requirement already satisfied: sgmllib3k==1.0.0 in /usr/local/lib/python3.7/dist-packages (from obsei) (1.0.0)\n",
            "Requirement already satisfied: requests-oauthlib==1.3.0 in /usr/local/lib/python3.7/dist-packages (from obsei) (1.3.0)\n",
            "Requirement already satisfied: thinc==8.0.13 in /usr/local/lib/python3.7/dist-packages (from obsei) (8.0.13)\n",
            "Requirement already satisfied: filelock==3.4.2 in /usr/local/lib/python3.7/dist-packages (from obsei) (3.4.2)\n",
            "Requirement already satisfied: nltk==3.6.7 in /usr/local/lib/python3.7/dist-packages (from obsei) (3.6.7)\n",
            "Requirement already satisfied: sacremoses==0.0.47 in /usr/local/lib/python3.7/dist-packages (from obsei) (0.0.47)\n",
            "Requirement already satisfied: beautifulsoup4==4.9.3 in /usr/local/lib/python3.7/dist-packages (from obsei) (4.9.3)\n",
            "Requirement already satisfied: srsly==2.4.2 in /usr/local/lib/python3.7/dist-packages (from obsei) (2.4.2)\n",
            "Requirement already satisfied: google-auth-httplib2==0.1.0 in /usr/local/lib/python3.7/dist-packages (from obsei) (0.1.0)\n",
            "Requirement already satisfied: uritemplate==4.1.1 in /usr/local/lib/python3.7/dist-packages (from obsei) (4.1.1)\n",
            "Requirement already satisfied: cymem==2.0.6 in /usr/local/lib/python3.7/dist-packages (from obsei) (2.0.6)\n",
            "Requirement already satisfied: langcodes==3.3.0 in /usr/local/lib/python3.7/dist-packages (from obsei) (3.3.0)\n",
            "Requirement already satisfied: typing-extensions>=3.7.4.3 in /usr/local/lib/python3.7/dist-packages (from obsei) (3.10.0.2)\n",
            "Requirement already satisfied: python-dotenv==0.19.2 in /usr/local/lib/python3.7/dist-packages (from obsei) (0.19.2)\n",
            "Requirement already satisfied: tldextract==3.1.2 in /usr/local/lib/python3.7/dist-packages (from obsei) (3.1.2)\n",
            "Requirement already satisfied: murmurhash==1.0.6 in /usr/local/lib/python3.7/dist-packages (from obsei) (1.0.6)\n",
            "Requirement already satisfied: vadersentiment==3.3.2 in /usr/local/lib/python3.7/dist-packages (from obsei) (3.3.2)\n",
            "Requirement already satisfied: cachetools==4.2.4 in /usr/local/lib/python3.7/dist-packages (from obsei) (4.2.4)\n",
            "Requirement already satisfied: pathy==0.6.1 in /usr/local/lib/python3.7/dist-packages (from obsei) (0.6.1)\n",
            "Requirement already satisfied: feedparser==6.0.8 in /usr/local/lib/python3.7/dist-packages (from obsei) (6.0.8)\n",
            "Requirement already satisfied: pymongo==3.12.3 in /usr/local/lib/python3.7/dist-packages (from obsei) (3.12.3)\n",
            "Requirement already satisfied: catalogue==2.0.6 in /usr/local/lib/python3.7/dist-packages (from obsei) (2.0.6)\n",
            "Requirement already satisfied: protobuf==3.19.3 in /usr/local/lib/python3.7/dist-packages (from obsei) (3.19.3)\n",
            "Requirement already satisfied: spacy==3.2.1 in /usr/local/lib/python3.7/dist-packages (from obsei) (3.2.1)\n",
            "Requirement already satisfied: huggingface-hub==0.4.0 in /usr/local/lib/python3.7/dist-packages (from obsei) (0.4.0)\n",
            "Requirement already satisfied: marshmallow-enum==1.5.1 in /usr/local/lib/python3.7/dist-packages (from obsei) (1.5.1)\n",
            "Requirement already satisfied: pydantic==1.8.2 in /usr/local/lib/python3.7/dist-packages (from obsei) (1.8.2)\n",
            "Requirement already satisfied: oauthlib==3.1.1 in /usr/local/lib/python3.7/dist-packages (from obsei) (3.1.1)\n",
            "Requirement already satisfied: prawcore==2.3.0 in /usr/local/lib/python3.7/dist-packages (from obsei) (2.3.0)\n",
            "Requirement already satisfied: pyparsing==3.0.6 in /usr/local/lib/python3.7/dist-packages (from obsei) (3.0.6)\n",
            "Requirement already satisfied: mmh3==3.0.0 in /usr/local/lib/python3.7/dist-packages (from obsei) (3.0.0)\n",
            "Requirement already satisfied: sentencepiece==0.1.96 in /usr/local/lib/python3.7/dist-packages (from obsei) (0.1.96)\n",
            "Requirement already satisfied: tqdm==4.62.3 in /usr/local/lib/python3.7/dist-packages (from obsei) (4.62.3)\n",
            "Requirement already satisfied: requests-file==1.5.1 in /usr/local/lib/python3.7/dist-packages (from obsei) (1.5.1)\n",
            "Requirement already satisfied: six==1.16.0 in /usr/local/lib/python3.7/dist-packages (from obsei) (1.16.0)\n",
            "Requirement already satisfied: wrapt==1.13.3 in /usr/local/lib/python3.7/dist-packages (from obsei) (1.13.3)\n",
            "Requirement already satisfied: pyasn1==0.4.8 in /usr/local/lib/python3.7/dist-packages (from obsei) (0.4.8)\n",
            "Requirement already satisfied: atlassian-python-api==3.18.0 in /usr/local/lib/python3.7/dist-packages (from obsei) (3.18.0)\n",
            "Requirement already satisfied: mypy-extensions==0.4.3 in /usr/local/lib/python3.7/dist-packages (from obsei) (0.4.3)\n",
            "Requirement already satisfied: pycryptodome==3.12.0 in /usr/local/lib/python3.7/dist-packages (from obsei) (3.12.0)\n",
            "Requirement already satisfied: packaging==21.3 in /usr/local/lib/python3.7/dist-packages (from obsei) (21.3)\n",
            "Requirement already satisfied: pyasn1-modules==0.2.8 in /usr/local/lib/python3.7/dist-packages (from obsei) (0.2.8)\n",
            "Requirement already satisfied: numpy>=1.21.4 in /usr/local/lib/python3.7/dist-packages (from obsei) (1.21.6)\n",
            "Requirement already satisfied: wasabi==0.9.0 in /usr/local/lib/python3.7/dist-packages (from obsei) (0.9.0)\n",
            "Requirement already satisfied: pyyaml==6.0 in /usr/local/lib/python3.7/dist-packages (from obsei) (6.0)\n",
            "Requirement already satisfied: colorama==0.4.4 in /usr/local/lib/python3.7/dist-packages (from obsei) (0.4.4)\n",
            "Requirement already satisfied: tokenizers==0.10.3 in /usr/local/lib/python3.7/dist-packages (from obsei) (0.10.3)\n",
            "Requirement already satisfied: preshed==3.0.6 in /usr/local/lib/python3.7/dist-packages (from obsei) (3.0.6)\n",
            "Requirement already satisfied: searchtweets-v2==1.1.1 in /usr/local/lib/python3.7/dist-packages (from obsei) (1.1.1)\n",
            "Requirement already satisfied: google-api-core==2.3.2 in /usr/local/lib/python3.7/dist-packages (from obsei) (2.3.2)\n",
            "Requirement already satisfied: marshmallow==3.14.1 in /usr/local/lib/python3.7/dist-packages (from obsei) (3.14.1)\n",
            "Requirement already satisfied: gnews==0.2.7 in /usr/local/lib/python3.7/dist-packages (from obsei) (0.2.7)\n",
            "Requirement already satisfied: praw==7.5.0 in /usr/local/lib/python3.7/dist-packages (from obsei) (7.5.0)\n",
            "Requirement already satisfied: markupsafe==2.0.1 in /usr/local/lib/python3.7/dist-packages (from obsei) (2.0.1)\n",
            "Requirement already satisfied: dnspython==1.16.0 in /usr/local/lib/python3.7/dist-packages (from obsei) (1.16.0)\n",
            "Requirement already satisfied: deprecated==1.2.13 in /usr/local/lib/python3.7/dist-packages (from obsei) (1.2.13)\n",
            "Requirement already satisfied: urllib3==1.26.8 in /usr/local/lib/python3.7/dist-packages (from obsei) (1.26.8)\n",
            "Requirement already satisfied: httplib2==0.20.2 in /usr/local/lib/python3.7/dist-packages (from obsei) (0.20.2)\n",
            "Requirement already satisfied: joblib==1.1.0 in /usr/local/lib/python3.7/dist-packages (from obsei) (1.1.0)\n",
            "Requirement already satisfied: transformers==4.15.0 in /usr/local/lib/python3.7/dist-packages (from obsei) (4.15.0)\n",
            "Requirement already satisfied: bs4==0.0.1 in /usr/local/lib/python3.7/dist-packages (from obsei) (0.0.1)\n",
            "Requirement already satisfied: smart-open==5.2.1 in /usr/local/lib/python3.7/dist-packages (from obsei) (5.2.1)\n",
            "Requirement already satisfied: google-auth==2.3.3 in /usr/local/lib/python3.7/dist-packages (from obsei) (2.3.3)\n",
            "Requirement already satisfied: soupsieve==2.3.1 in /usr/local/lib/python3.7/dist-packages (from obsei) (2.3.1)\n",
            "Requirement already satisfied: python-dateutil==2.8.2 in /usr/local/lib/python3.7/dist-packages (from obsei) (2.8.2)\n",
            "Requirement already satisfied: reddit-rss-reader==1.3.2 in /usr/local/lib/python3.7/dist-packages (from obsei) (1.3.2)\n",
            "Requirement already satisfied: pytz==2021.3 in /usr/local/lib/python3.7/dist-packages (from obsei) (2021.3)\n",
            "Requirement already satisfied: elasticsearch==7.16.2 in /usr/local/lib/python3.7/dist-packages (from obsei) (7.16.2)\n",
            "Requirement already satisfied: presidio-analyzer==2.2.23 in /usr/local/lib/python3.7/dist-packages (from obsei) (2.2.23)\n",
            "Requirement already satisfied: spacy-legacy==3.0.8 in /usr/local/lib/python3.7/dist-packages (from obsei) (3.0.8)\n",
            "Requirement already satisfied: greenlet==1.1.2 in /usr/local/lib/python3.7/dist-packages (from obsei) (1.1.2)\n",
            "Requirement already satisfied: python-facebook-api==0.12.4 in /usr/local/lib/python3.7/dist-packages (from obsei) (0.12.4)\n",
            "Requirement already satisfied: pandas==1.3.5 in /usr/local/lib/python3.7/dist-packages (from obsei) (1.3.5)\n",
            "Requirement already satisfied: phonenumbers==8.12.41 in /usr/local/lib/python3.7/dist-packages (from obsei) (8.12.41)\n",
            "Requirement already satisfied: charset-normalizer==2.0.10 in /usr/local/lib/python3.7/dist-packages (from obsei) (2.0.10)\n",
            "Requirement already satisfied: google-api-python-client==2.34.0 in /usr/local/lib/python3.7/dist-packages (from obsei) (2.34.0)\n",
            "Requirement already satisfied: app-store-reviews-reader==1.2 in /usr/local/lib/python3.7/dist-packages (from obsei) (1.2)\n",
            "Requirement already satisfied: rsa==4.8 in /usr/local/lib/python3.7/dist-packages (from obsei) (4.8)\n",
            "Requirement already satisfied: googleapis-common-protos==1.54.0 in /usr/local/lib/python3.7/dist-packages (from obsei) (1.54.0)\n",
            "Requirement already satisfied: presidio-anonymizer==2.2.23 in /usr/local/lib/python3.7/dist-packages (from obsei) (2.2.23)\n",
            "Requirement already satisfied: idna==3.3 in /usr/local/lib/python3.7/dist-packages (from obsei) (3.3)\n",
            "Requirement already satisfied: typing-inspect==0.7.1 in /usr/local/lib/python3.7/dist-packages (from obsei) (0.7.1)\n",
            "Requirement already satisfied: slack-sdk==3.13.0 in /usr/local/lib/python3.7/dist-packages (from obsei) (3.13.0)\n",
            "Requirement already satisfied: google-play-scraper==1.0.2 in /usr/local/lib/python3.7/dist-packages (from obsei) (1.0.2)\n",
            "Requirement already satisfied: regex==2021.11.10 in /usr/local/lib/python3.7/dist-packages (from obsei) (2021.11.10)\n",
            "Requirement already satisfied: click>=7.0 in /usr/local/lib/python3.7/dist-packages (from obsei) (7.1.2)\n",
            "Requirement already satisfied: dataclasses-json==0.5.6 in /usr/local/lib/python3.7/dist-packages (from obsei) (0.5.6)\n",
            "Requirement already satisfied: zipp>=0.5 in /usr/local/lib/python3.7/dist-packages (from catalogue==2.0.6->obsei) (3.8.0)\n",
            "Requirement already satisfied: setuptools>=40.3.0 in /usr/local/lib/python3.7/dist-packages (from google-api-core==2.3.2->obsei) (57.4.0)\n",
            "Requirement already satisfied: importlib-metadata in /usr/local/lib/python3.7/dist-packages (from huggingface-hub==0.4.0->obsei) (4.11.4)\n",
            "Requirement already satisfied: tzlocal in /usr/local/lib/python3.7/dist-packages (from dateparser) (1.5.1)\n",
            "Installing collected packages: dateparser\n",
            "Successfully installed dateparser-1.1.1\n"
          ]
        }
      ],
      "source": [
        "pip install obsei dateparser"
      ]
    },
    {
      "cell_type": "code",
      "source": [
        "from obsei.source.youtube_scrapper import YoutubeScrapperSource, YoutubeScrapperConfig\n",
        "\n"
      ],
      "metadata": {
        "colab": {
          "base_uri": "https://localhost:8080/"
        },
        "id": "QzdOMFsK6wIc",
        "outputId": "a1cfbab5-814f-455d-b577-6ed172c01231"
      },
      "execution_count": null,
      "outputs": [
        {
          "output_type": "stream",
          "name": "stderr",
          "text": [
            "06/25/2022 12:56:26 - INFO - numexpr.utils -   NumExpr defaulting to 2 threads.\n"
          ]
        }
      ]
    },
    {
      "cell_type": "code",
      "source": [
        "#Taking url input \n",
        "#Enter the youtube URL you want scrape comments from\n",
        "url = input()"
      ],
      "metadata": {
        "colab": {
          "base_uri": "https://localhost:8080/"
        },
        "id": "0_54TYRF73D2",
        "outputId": "1784f441-a056-4805-df83-e8149e170b2f"
      },
      "execution_count": null,
      "outputs": [
        {
          "name": "stdout",
          "output_type": "stream",
          "text": [
            "https://www.youtube.com/watch?v=1T-Mkj7xIsg\n"
          ]
        }
      ]
    },
    {
      "cell_type": "code",
      "source": [
        "# initialize Youtube source config\n",
        "source_config = YoutubeScrapperConfig(\n",
        "    video_url=url, \n",
        "    fetch_replies=False, # Fetch replies to comments\n",
        "    max_comments=50, # Total number of comments and replies to fetch\n",
        "    lookup_period=\"1Y\", # Lookup period from current time, format: `<number><d|h|m|M|Y>` (day|hour|minute|month|year)\n",
        ")\n",
        "\n",
        "# initialize Youtube comments retriever\n",
        "source = YoutubeScrapperSource()"
      ],
      "metadata": {
        "id": "mHnZ4fzN7iQe"
      },
      "execution_count": null,
      "outputs": []
    },
    {
      "cell_type": "code",
      "source": [
        "print(source_config)"
      ],
      "metadata": {
        "colab": {
          "base_uri": "https://localhost:8080/"
        },
        "id": "ySk5MHOu8dNz",
        "outputId": "1e121d5e-2ac9-40ec-81b3-78550881062e"
      },
      "execution_count": null,
      "outputs": [
        {
          "output_type": "stream",
          "name": "stdout",
          "text": [
            "TYPE='YoutubeScrapper' video_id=None video_url='https://www.youtube.com/watch?v=1T-Mkj7xIsg' user_agent='Mozilla/5.0 (Windows NT 10.0; Win64; x64) AppleWebKit/537.36 (KHTML, like Gecko) Chrome/79.0.3945.130 Safari/537.36' sort_by=1 max_comments=50 fetch_replies=False lang_code=None sleep_time=0.1 request_retries=5 lookup_period='1Y'\n"
          ]
        }
      ]
    },
    {
      "cell_type": "code",
      "source": [
        "comment_list = source.lookup(source_config)\n",
        "print(comment_list)"
      ],
      "metadata": {
        "colab": {
          "base_uri": "https://localhost:8080/"
        },
        "id": "DT6PRJKg9vDv",
        "outputId": "03f2532c-ed93-4a68-916f-9dbd9d4ec7c7"
      },
      "execution_count": null,
      "outputs": [
        {
          "output_type": "stream",
          "name": "stderr",
          "text": [
            "06/25/2022 13:06:34 - WARNING - obsei.source.youtube_scrapper -   None\n"
          ]
        },
        {
          "output_type": "stream",
          "name": "stdout",
          "text": [
            "[]\n"
          ]
        }
      ]
    }
  ]
}